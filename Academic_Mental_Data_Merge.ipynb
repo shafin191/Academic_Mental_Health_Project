{
 "cells": [
  {
   "cell_type": "code",
   "execution_count": 1,
   "id": "ae1dfe89",
   "metadata": {},
   "outputs": [],
   "source": [
    "import tweepy\n",
    "import time\n",
    "from ttictoc import tic,toc\n",
    "import pandas as pd\n",
    "import pickle\n",
    "import csv\n",
    "import json\n",
    "import GetOldTweets3 as got\n",
    "from tweepy import OAuthHandler\n",
    "#from tweepy.streaming import StreamListener\n",
    "import tweepy\n",
    "import json\n",
    "import pandas as pd\n",
    "import csv\n",
    "import re\n",
    "from textblob import TextBlob\n",
    "import string\n",
    "import preprocessor as p\n",
    "import os\n",
    "import time"
   ]
  },
  {
   "cell_type": "code",
   "execution_count": 64,
   "id": "111ba3bf",
   "metadata": {},
   "outputs": [],
   "source": [
    "with open('Academic_Mental_Health_7.data', 'rb') as filehandle:\n",
    "            # store the data as binary data stream\n",
    "            data_2 = pickle.load(filehandle)"
   ]
  },
  {
   "cell_type": "code",
   "execution_count": 65,
   "id": "3a24efef",
   "metadata": {},
   "outputs": [
    {
     "data": {
      "text/plain": [
       "222"
      ]
     },
     "execution_count": 65,
     "metadata": {},
     "output_type": "execute_result"
    }
   ],
   "source": [
    "len(data_2)"
   ]
  },
  {
   "cell_type": "code",
   "execution_count": 66,
   "id": "c0ce05ef",
   "metadata": {},
   "outputs": [],
   "source": [
    "alltweets.extend(data_2)"
   ]
  },
  {
   "cell_type": "code",
   "execution_count": 78,
   "id": "86405e25",
   "metadata": {
    "collapsed": true
   },
   "outputs": [
    {
     "data": {
      "text/plain": [
       "Status(_json={'created_at': 'Thu Mar 24 03:31:48 +0000 2022', 'id': 1506836150358585348, 'id_str': '1506836150358585348', 'full_text': \"RT @Hogwarts_Acads: Hi guys! If you need any help with acads, essays, modules, and more, send me a DM! We're open for commissions and rush…\", 'truncated': False, 'display_text_range': [0, 139], 'entities': {'hashtags': [], 'symbols': [], 'user_mentions': [{'screen_name': 'Hogwarts_Acads', 'name': 'HOGWARTS ACADS 2/10 || ACCEPTING RUSH', 'id': 1230985539953643521, 'id_str': '1230985539953643521', 'indices': [3, 18]}], 'urls': []}, 'metadata': {'iso_language_code': 'en', 'result_type': 'recent'}, 'source': '<a href=\"http://mindfuldessert.com/\" rel=\"nofollow\">publi2023</a>', 'in_reply_to_status_id': None, 'in_reply_to_status_id_str': None, 'in_reply_to_user_id': None, 'in_reply_to_user_id_str': None, 'in_reply_to_screen_name': None, 'user': {'id': 1485693106204950530, 'id_str': '1485693106204950530', 'name': 'Academics Bot', 'screen_name': 'academicsbot', 'location': '', 'description': 'Created by Doctor @KrittanawongMD. A bot that collects Tweets everything about #academictwitter. Hashtag #academicsbot to share your #publication on Twitter', 'url': None, 'entities': {'description': {'urls': []}}, 'protected': False, 'followers_count': 587, 'friends_count': 1, 'listed_count': 2, 'created_at': 'Mon Jan 24 19:17:00 +0000 2022', 'favourites_count': 0, 'utc_offset': None, 'time_zone': None, 'geo_enabled': False, 'verified': False, 'statuses_count': 17318, 'lang': None, 'contributors_enabled': False, 'is_translator': False, 'is_translation_enabled': False, 'profile_background_color': 'F5F8FA', 'profile_background_image_url': None, 'profile_background_image_url_https': None, 'profile_background_tile': False, 'profile_image_url': 'http://pbs.twimg.com/profile_images/1486155968371175426/xGJvHzDj_normal.jpg', 'profile_image_url_https': 'https://pbs.twimg.com/profile_images/1486155968371175426/xGJvHzDj_normal.jpg', 'profile_banner_url': 'https://pbs.twimg.com/profile_banners/1485693106204950530/1643051942', 'profile_link_color': '1DA1F2', 'profile_sidebar_border_color': 'C0DEED', 'profile_sidebar_fill_color': 'DDEEF6', 'profile_text_color': '333333', 'profile_use_background_image': True, 'has_extended_profile': True, 'default_profile': True, 'default_profile_image': False, 'following': False, 'follow_request_sent': False, 'notifications': False, 'translator_type': 'none', 'withheld_in_countries': []}, 'geo': None, 'coordinates': None, 'place': None, 'contributors': None, 'retweeted_status': {'created_at': 'Thu Mar 24 03:22:40 +0000 2022', 'id': 1506833849577521156, 'id_str': '1506833849577521156', 'full_text': \"Hi guys! If you need any help with acads, essays, modules, and more, send me a DM! We're open for commissions and rush is open #Essays #essayhelp #essaywriting #AcademicChatter #AcademicTwitter #AcademicMentalHealth #Acadscommission #HelpIsHere #Help\", 'truncated': False, 'display_text_range': [0, 250], 'entities': {'hashtags': [{'text': 'Essays', 'indices': [127, 134]}, {'text': 'essayhelp', 'indices': [135, 145]}, {'text': 'essaywriting', 'indices': [146, 159]}, {'text': 'AcademicChatter', 'indices': [160, 176]}, {'text': 'AcademicTwitter', 'indices': [177, 193]}, {'text': 'AcademicMentalHealth', 'indices': [194, 215]}, {'text': 'Acadscommission', 'indices': [216, 232]}, {'text': 'HelpIsHere', 'indices': [233, 244]}, {'text': 'Help', 'indices': [245, 250]}], 'symbols': [], 'user_mentions': [], 'urls': []}, 'metadata': {'iso_language_code': 'en', 'result_type': 'recent'}, 'source': '<a href=\"http://twitter.com/download/android\" rel=\"nofollow\">Twitter for Android</a>', 'in_reply_to_status_id': None, 'in_reply_to_status_id_str': None, 'in_reply_to_user_id': None, 'in_reply_to_user_id_str': None, 'in_reply_to_screen_name': None, 'user': {'id': 1230985539953643521, 'id_str': '1230985539953643521', 'name': 'HOGWARTS ACADS 2/10 || ACCEPTING RUSH', 'screen_name': 'Hogwarts_Acads', 'location': '', 'description': 'This is Sei, your acad server! \\nASSISTED OVER 830+ WORKS!\\nAvail for tarot readings! DM now!\\n\\n#acadshelp247 #LuckyHelper #HogwartsAcadsProof\\nEst. Nov 2020', 'url': None, 'entities': {'description': {'urls': []}}, 'protected': False, 'followers_count': 1305, 'friends_count': 175, 'listed_count': 3, 'created_at': 'Fri Feb 21 22:40:10 +0000 2020', 'favourites_count': 576, 'utc_offset': None, 'time_zone': None, 'geo_enabled': False, 'verified': False, 'statuses_count': 8272, 'lang': None, 'contributors_enabled': False, 'is_translator': False, 'is_translation_enabled': False, 'profile_background_color': 'F5F8FA', 'profile_background_image_url': None, 'profile_background_image_url_https': None, 'profile_background_tile': False, 'profile_image_url': 'http://pbs.twimg.com/profile_images/1501857640120750082/qfQX_ZQE_normal.jpg', 'profile_image_url_https': 'https://pbs.twimg.com/profile_images/1501857640120750082/qfQX_ZQE_normal.jpg', 'profile_banner_url': 'https://pbs.twimg.com/profile_banners/1230985539953643521/1634670463', 'profile_link_color': '1DA1F2', 'profile_sidebar_border_color': 'C0DEED', 'profile_sidebar_fill_color': 'DDEEF6', 'profile_text_color': '333333', 'profile_use_background_image': True, 'has_extended_profile': False, 'default_profile': True, 'default_profile_image': False, 'following': False, 'follow_request_sent': False, 'notifications': False, 'translator_type': 'none', 'withheld_in_countries': []}, 'geo': None, 'coordinates': None, 'place': None, 'contributors': None, 'is_quote_status': False, 'retweet_count': 1, 'favorite_count': 0, 'favorited': False, 'retweeted': False, 'lang': 'en'}, 'is_quote_status': False, 'retweet_count': 1, 'favorite_count': 0, 'favorited': False, 'retweeted': False, 'lang': 'en'}, created_at=datetime.datetime(2022, 3, 24, 3, 31, 48, tzinfo=datetime.timezone.utc), id=1506836150358585348, id_str='1506836150358585348', full_text=\"RT @Hogwarts_Acads: Hi guys! If you need any help with acads, essays, modules, and more, send me a DM! We're open for commissions and rush…\", truncated=False, display_text_range=[0, 139], entities={'hashtags': [], 'symbols': [], 'user_mentions': [{'screen_name': 'Hogwarts_Acads', 'name': 'HOGWARTS ACADS 2/10 || ACCEPTING RUSH', 'id': 1230985539953643521, 'id_str': '1230985539953643521', 'indices': [3, 18]}], 'urls': []}, metadata={'iso_language_code': 'en', 'result_type': 'recent'}, source='publi2023', source_url='http://mindfuldessert.com/', in_reply_to_status_id=None, in_reply_to_status_id_str=None, in_reply_to_user_id=None, in_reply_to_user_id_str=None, in_reply_to_screen_name=None, author=User(_json={'id': 1485693106204950530, 'id_str': '1485693106204950530', 'name': 'Academics Bot', 'screen_name': 'academicsbot', 'location': '', 'description': 'Created by Doctor @KrittanawongMD. A bot that collects Tweets everything about #academictwitter. Hashtag #academicsbot to share your #publication on Twitter', 'url': None, 'entities': {'description': {'urls': []}}, 'protected': False, 'followers_count': 587, 'friends_count': 1, 'listed_count': 2, 'created_at': 'Mon Jan 24 19:17:00 +0000 2022', 'favourites_count': 0, 'utc_offset': None, 'time_zone': None, 'geo_enabled': False, 'verified': False, 'statuses_count': 17318, 'lang': None, 'contributors_enabled': False, 'is_translator': False, 'is_translation_enabled': False, 'profile_background_color': 'F5F8FA', 'profile_background_image_url': None, 'profile_background_image_url_https': None, 'profile_background_tile': False, 'profile_image_url': 'http://pbs.twimg.com/profile_images/1486155968371175426/xGJvHzDj_normal.jpg', 'profile_image_url_https': 'https://pbs.twimg.com/profile_images/1486155968371175426/xGJvHzDj_normal.jpg', 'profile_banner_url': 'https://pbs.twimg.com/profile_banners/1485693106204950530/1643051942', 'profile_link_color': '1DA1F2', 'profile_sidebar_border_color': 'C0DEED', 'profile_sidebar_fill_color': 'DDEEF6', 'profile_text_color': '333333', 'profile_use_background_image': True, 'has_extended_profile': True, 'default_profile': True, 'default_profile_image': False, 'following': False, 'follow_request_sent': False, 'notifications': False, 'translator_type': 'none', 'withheld_in_countries': []}, id=1485693106204950530, id_str='1485693106204950530', name='Academics Bot', screen_name='academicsbot', location='', description='Created by Doctor @KrittanawongMD. A bot that collects Tweets everything about #academictwitter. Hashtag #academicsbot to share your #publication on Twitter', url=None, entities={'description': {'urls': []}}, protected=False, followers_count=587, friends_count=1, listed_count=2, created_at=datetime.datetime(2022, 1, 24, 19, 17, tzinfo=datetime.timezone.utc), favourites_count=0, utc_offset=None, time_zone=None, geo_enabled=False, verified=False, statuses_count=17318, lang=None, contributors_enabled=False, is_translator=False, is_translation_enabled=False, profile_background_color='F5F8FA', profile_background_image_url=None, profile_background_image_url_https=None, profile_background_tile=False, profile_image_url='http://pbs.twimg.com/profile_images/1486155968371175426/xGJvHzDj_normal.jpg', profile_image_url_https='https://pbs.twimg.com/profile_images/1486155968371175426/xGJvHzDj_normal.jpg', profile_banner_url='https://pbs.twimg.com/profile_banners/1485693106204950530/1643051942', profile_link_color='1DA1F2', profile_sidebar_border_color='C0DEED', profile_sidebar_fill_color='DDEEF6', profile_text_color='333333', profile_use_background_image=True, has_extended_profile=True, default_profile=True, default_profile_image=False, following=False, follow_request_sent=False, notifications=False, translator_type='none', withheld_in_countries=[]), user=User(_json={'id': 1485693106204950530, 'id_str': '1485693106204950530', 'name': 'Academics Bot', 'screen_name': 'academicsbot', 'location': '', 'description': 'Created by Doctor @KrittanawongMD. A bot that collects Tweets everything about #academictwitter. Hashtag #academicsbot to share your #publication on Twitter', 'url': None, 'entities': {'description': {'urls': []}}, 'protected': False, 'followers_count': 587, 'friends_count': 1, 'listed_count': 2, 'created_at': 'Mon Jan 24 19:17:00 +0000 2022', 'favourites_count': 0, 'utc_offset': None, 'time_zone': None, 'geo_enabled': False, 'verified': False, 'statuses_count': 17318, 'lang': None, 'contributors_enabled': False, 'is_translator': False, 'is_translation_enabled': False, 'profile_background_color': 'F5F8FA', 'profile_background_image_url': None, 'profile_background_image_url_https': None, 'profile_background_tile': False, 'profile_image_url': 'http://pbs.twimg.com/profile_images/1486155968371175426/xGJvHzDj_normal.jpg', 'profile_image_url_https': 'https://pbs.twimg.com/profile_images/1486155968371175426/xGJvHzDj_normal.jpg', 'profile_banner_url': 'https://pbs.twimg.com/profile_banners/1485693106204950530/1643051942', 'profile_link_color': '1DA1F2', 'profile_sidebar_border_color': 'C0DEED', 'profile_sidebar_fill_color': 'DDEEF6', 'profile_text_color': '333333', 'profile_use_background_image': True, 'has_extended_profile': True, 'default_profile': True, 'default_profile_image': False, 'following': False, 'follow_request_sent': False, 'notifications': False, 'translator_type': 'none', 'withheld_in_countries': []}, id=1485693106204950530, id_str='1485693106204950530', name='Academics Bot', screen_name='academicsbot', location='', description='Created by Doctor @KrittanawongMD. A bot that collects Tweets everything about #academictwitter. Hashtag #academicsbot to share your #publication on Twitter', url=None, entities={'description': {'urls': []}}, protected=False, followers_count=587, friends_count=1, listed_count=2, created_at=datetime.datetime(2022, 1, 24, 19, 17, tzinfo=datetime.timezone.utc), favourites_count=0, utc_offset=None, time_zone=None, geo_enabled=False, verified=False, statuses_count=17318, lang=None, contributors_enabled=False, is_translator=False, is_translation_enabled=False, profile_background_color='F5F8FA', profile_background_image_url=None, profile_background_image_url_https=None, profile_background_tile=False, profile_image_url='http://pbs.twimg.com/profile_images/1486155968371175426/xGJvHzDj_normal.jpg', profile_image_url_https='https://pbs.twimg.com/profile_images/1486155968371175426/xGJvHzDj_normal.jpg', profile_banner_url='https://pbs.twimg.com/profile_banners/1485693106204950530/1643051942', profile_link_color='1DA1F2', profile_sidebar_border_color='C0DEED', profile_sidebar_fill_color='DDEEF6', profile_text_color='333333', profile_use_background_image=True, has_extended_profile=True, default_profile=True, default_profile_image=False, following=False, follow_request_sent=False, notifications=False, translator_type='none', withheld_in_countries=[]), geo=None, coordinates=None, place=None, contributors=None, retweeted_status=Status(_json={'created_at': 'Thu Mar 24 03:22:40 +0000 2022', 'id': 1506833849577521156, 'id_str': '1506833849577521156', 'full_text': \"Hi guys! If you need any help with acads, essays, modules, and more, send me a DM! We're open for commissions and rush is open #Essays #essayhelp #essaywriting #AcademicChatter #AcademicTwitter #AcademicMentalHealth #Acadscommission #HelpIsHere #Help\", 'truncated': False, 'display_text_range': [0, 250], 'entities': {'hashtags': [{'text': 'Essays', 'indices': [127, 134]}, {'text': 'essayhelp', 'indices': [135, 145]}, {'text': 'essaywriting', 'indices': [146, 159]}, {'text': 'AcademicChatter', 'indices': [160, 176]}, {'text': 'AcademicTwitter', 'indices': [177, 193]}, {'text': 'AcademicMentalHealth', 'indices': [194, 215]}, {'text': 'Acadscommission', 'indices': [216, 232]}, {'text': 'HelpIsHere', 'indices': [233, 244]}, {'text': 'Help', 'indices': [245, 250]}], 'symbols': [], 'user_mentions': [], 'urls': []}, 'metadata': {'iso_language_code': 'en', 'result_type': 'recent'}, 'source': '<a href=\"http://twitter.com/download/android\" rel=\"nofollow\">Twitter for Android</a>', 'in_reply_to_status_id': None, 'in_reply_to_status_id_str': None, 'in_reply_to_user_id': None, 'in_reply_to_user_id_str': None, 'in_reply_to_screen_name': None, 'user': {'id': 1230985539953643521, 'id_str': '1230985539953643521', 'name': 'HOGWARTS ACADS 2/10 || ACCEPTING RUSH', 'screen_name': 'Hogwarts_Acads', 'location': '', 'description': 'This is Sei, your acad server! \\nASSISTED OVER 830+ WORKS!\\nAvail for tarot readings! DM now!\\n\\n#acadshelp247 #LuckyHelper #HogwartsAcadsProof\\nEst. Nov 2020', 'url': None, 'entities': {'description': {'urls': []}}, 'protected': False, 'followers_count': 1305, 'friends_count': 175, 'listed_count': 3, 'created_at': 'Fri Feb 21 22:40:10 +0000 2020', 'favourites_count': 576, 'utc_offset': None, 'time_zone': None, 'geo_enabled': False, 'verified': False, 'statuses_count': 8272, 'lang': None, 'contributors_enabled': False, 'is_translator': False, 'is_translation_enabled': False, 'profile_background_color': 'F5F8FA', 'profile_background_image_url': None, 'profile_background_image_url_https': None, 'profile_background_tile': False, 'profile_image_url': 'http://pbs.twimg.com/profile_images/1501857640120750082/qfQX_ZQE_normal.jpg', 'profile_image_url_https': 'https://pbs.twimg.com/profile_images/1501857640120750082/qfQX_ZQE_normal.jpg', 'profile_banner_url': 'https://pbs.twimg.com/profile_banners/1230985539953643521/1634670463', 'profile_link_color': '1DA1F2', 'profile_sidebar_border_color': 'C0DEED', 'profile_sidebar_fill_color': 'DDEEF6', 'profile_text_color': '333333', 'profile_use_background_image': True, 'has_extended_profile': False, 'default_profile': True, 'default_profile_image': False, 'following': False, 'follow_request_sent': False, 'notifications': False, 'translator_type': 'none', 'withheld_in_countries': []}, 'geo': None, 'coordinates': None, 'place': None, 'contributors': None, 'is_quote_status': False, 'retweet_count': 1, 'favorite_count': 0, 'favorited': False, 'retweeted': False, 'lang': 'en'}, created_at=datetime.datetime(2022, 3, 24, 3, 22, 40, tzinfo=datetime.timezone.utc), id=1506833849577521156, id_str='1506833849577521156', full_text=\"Hi guys! If you need any help with acads, essays, modules, and more, send me a DM! We're open for commissions and rush is open #Essays #essayhelp #essaywriting #AcademicChatter #AcademicTwitter #AcademicMentalHealth #Acadscommission #HelpIsHere #Help\", truncated=False, display_text_range=[0, 250], entities={'hashtags': [{'text': 'Essays', 'indices': [127, 134]}, {'text': 'essayhelp', 'indices': [135, 145]}, {'text': 'essaywriting', 'indices': [146, 159]}, {'text': 'AcademicChatter', 'indices': [160, 176]}, {'text': 'AcademicTwitter', 'indices': [177, 193]}, {'text': 'AcademicMentalHealth', 'indices': [194, 215]}, {'text': 'Acadscommission', 'indices': [216, 232]}, {'text': 'HelpIsHere', 'indices': [233, 244]}, {'text': 'Help', 'indices': [245, 250]}], 'symbols': [], 'user_mentions': [], 'urls': []}, metadata={'iso_language_code': 'en', 'result_type': 'recent'}, source='Twitter for Android', source_url='http://twitter.com/download/android', in_reply_to_status_id=None, in_reply_to_status_id_str=None, in_reply_to_user_id=None, in_reply_to_user_id_str=None, in_reply_to_screen_name=None, author=User(_json={'id': 1230985539953643521, 'id_str': '1230985539953643521', 'name': 'HOGWARTS ACADS 2/10 || ACCEPTING RUSH', 'screen_name': 'Hogwarts_Acads', 'location': '', 'description': 'This is Sei, your acad server! \\nASSISTED OVER 830+ WORKS!\\nAvail for tarot readings! DM now!\\n\\n#acadshelp247 #LuckyHelper #HogwartsAcadsProof\\nEst. Nov 2020', 'url': None, 'entities': {'description': {'urls': []}}, 'protected': False, 'followers_count': 1305, 'friends_count': 175, 'listed_count': 3, 'created_at': 'Fri Feb 21 22:40:10 +0000 2020', 'favourites_count': 576, 'utc_offset': None, 'time_zone': None, 'geo_enabled': False, 'verified': False, 'statuses_count': 8272, 'lang': None, 'contributors_enabled': False, 'is_translator': False, 'is_translation_enabled': False, 'profile_background_color': 'F5F8FA', 'profile_background_image_url': None, 'profile_background_image_url_https': None, 'profile_background_tile': False, 'profile_image_url': 'http://pbs.twimg.com/profile_images/1501857640120750082/qfQX_ZQE_normal.jpg', 'profile_image_url_https': 'https://pbs.twimg.com/profile_images/1501857640120750082/qfQX_ZQE_normal.jpg', 'profile_banner_url': 'https://pbs.twimg.com/profile_banners/1230985539953643521/1634670463', 'profile_link_color': '1DA1F2', 'profile_sidebar_border_color': 'C0DEED', 'profile_sidebar_fill_color': 'DDEEF6', 'profile_text_color': '333333', 'profile_use_background_image': True, 'has_extended_profile': False, 'default_profile': True, 'default_profile_image': False, 'following': False, 'follow_request_sent': False, 'notifications': False, 'translator_type': 'none', 'withheld_in_countries': []}, id=1230985539953643521, id_str='1230985539953643521', name='HOGWARTS ACADS 2/10 || ACCEPTING RUSH', screen_name='Hogwarts_Acads', location='', description='This is Sei, your acad server! \\nASSISTED OVER 830+ WORKS!\\nAvail for tarot readings! DM now!\\n\\n#acadshelp247 #LuckyHelper #HogwartsAcadsProof\\nEst. Nov 2020', url=None, entities={'description': {'urls': []}}, protected=False, followers_count=1305, friends_count=175, listed_count=3, created_at=datetime.datetime(2020, 2, 21, 22, 40, 10, tzinfo=datetime.timezone.utc), favourites_count=576, utc_offset=None, time_zone=None, geo_enabled=False, verified=False, statuses_count=8272, lang=None, contributors_enabled=False, is_translator=False, is_translation_enabled=False, profile_background_color='F5F8FA', profile_background_image_url=None, profile_background_image_url_https=None, profile_background_tile=False, profile_image_url='http://pbs.twimg.com/profile_images/1501857640120750082/qfQX_ZQE_normal.jpg', profile_image_url_https='https://pbs.twimg.com/profile_images/1501857640120750082/qfQX_ZQE_normal.jpg', profile_banner_url='https://pbs.twimg.com/profile_banners/1230985539953643521/1634670463', profile_link_color='1DA1F2', profile_sidebar_border_color='C0DEED', profile_sidebar_fill_color='DDEEF6', profile_text_color='333333', profile_use_background_image=True, has_extended_profile=False, default_profile=True, default_profile_image=False, following=False, follow_request_sent=False, notifications=False, translator_type='none', withheld_in_countries=[]), user=User(_json={'id': 1230985539953643521, 'id_str': '1230985539953643521', 'name': 'HOGWARTS ACADS 2/10 || ACCEPTING RUSH', 'screen_name': 'Hogwarts_Acads', 'location': '', 'description': 'This is Sei, your acad server! \\nASSISTED OVER 830+ WORKS!\\nAvail for tarot readings! DM now!\\n\\n#acadshelp247 #LuckyHelper #HogwartsAcadsProof\\nEst. Nov 2020', 'url': None, 'entities': {'description': {'urls': []}}, 'protected': False, 'followers_count': 1305, 'friends_count': 175, 'listed_count': 3, 'created_at': 'Fri Feb 21 22:40:10 +0000 2020', 'favourites_count': 576, 'utc_offset': None, 'time_zone': None, 'geo_enabled': False, 'verified': False, 'statuses_count': 8272, 'lang': None, 'contributors_enabled': False, 'is_translator': False, 'is_translation_enabled': False, 'profile_background_color': 'F5F8FA', 'profile_background_image_url': None, 'profile_background_image_url_https': None, 'profile_background_tile': False, 'profile_image_url': 'http://pbs.twimg.com/profile_images/1501857640120750082/qfQX_ZQE_normal.jpg', 'profile_image_url_https': 'https://pbs.twimg.com/profile_images/1501857640120750082/qfQX_ZQE_normal.jpg', 'profile_banner_url': 'https://pbs.twimg.com/profile_banners/1230985539953643521/1634670463', 'profile_link_color': '1DA1F2', 'profile_sidebar_border_color': 'C0DEED', 'profile_sidebar_fill_color': 'DDEEF6', 'profile_text_color': '333333', 'profile_use_background_image': True, 'has_extended_profile': False, 'default_profile': True, 'default_profile_image': False, 'following': False, 'follow_request_sent': False, 'notifications': False, 'translator_type': 'none', 'withheld_in_countries': []}, id=1230985539953643521, id_str='1230985539953643521', name='HOGWARTS ACADS 2/10 || ACCEPTING RUSH', screen_name='Hogwarts_Acads', location='', description='This is Sei, your acad server! \\nASSISTED OVER 830+ WORKS!\\nAvail for tarot readings! DM now!\\n\\n#acadshelp247 #LuckyHelper #HogwartsAcadsProof\\nEst. Nov 2020', url=None, entities={'description': {'urls': []}}, protected=False, followers_count=1305, friends_count=175, listed_count=3, created_at=datetime.datetime(2020, 2, 21, 22, 40, 10, tzinfo=datetime.timezone.utc), favourites_count=576, utc_offset=None, time_zone=None, geo_enabled=False, verified=False, statuses_count=8272, lang=None, contributors_enabled=False, is_translator=False, is_translation_enabled=False, profile_background_color='F5F8FA', profile_background_image_url=None, profile_background_image_url_https=None, profile_background_tile=False, profile_image_url='http://pbs.twimg.com/profile_images/1501857640120750082/qfQX_ZQE_normal.jpg', profile_image_url_https='https://pbs.twimg.com/profile_images/1501857640120750082/qfQX_ZQE_normal.jpg', profile_banner_url='https://pbs.twimg.com/profile_banners/1230985539953643521/1634670463', profile_link_color='1DA1F2', profile_sidebar_border_color='C0DEED', profile_sidebar_fill_color='DDEEF6', profile_text_color='333333', profile_use_background_image=True, has_extended_profile=False, default_profile=True, default_profile_image=False, following=False, follow_request_sent=False, notifications=False, translator_type='none', withheld_in_countries=[]), geo=None, coordinates=None, place=None, contributors=None, is_quote_status=False, retweet_count=1, favorite_count=0, favorited=False, retweeted=False, lang='en'), is_quote_status=False, retweet_count=1, favorite_count=0, favorited=False, retweeted=False, lang='en')"
      ]
     },
     "execution_count": 78,
     "metadata": {},
     "output_type": "execute_result"
    }
   ],
   "source": [
    "alltweets[0]"
   ]
  },
  {
   "cell_type": "code",
   "execution_count": 68,
   "id": "8f1599ee",
   "metadata": {},
   "outputs": [
    {
     "name": "stderr",
     "output_type": "stream",
     "text": [
      "C:\\Users\\ashaf016\\AppData\\Local\\Temp\\ipykernel_33740\\3588641008.py:81: SettingWithCopyWarning: \n",
      "A value is trying to be set on a copy of a slice from a DataFrame\n",
      "\n",
      "See the caveats in the documentation: https://pandas.pydata.org/pandas-docs/stable/user_guide/indexing.html#returning-a-view-versus-a-copy\n",
      "  df['Retweet_Source_ScreenName'][i] = df['Tweet_Text'][i].split()[1][1:-1]\n",
      "C:\\Users\\ashaf016\\AppData\\Local\\Temp\\ipykernel_33740\\3588641008.py:82: SettingWithCopyWarning: \n",
      "A value is trying to be set on a copy of a slice from a DataFrame\n",
      "\n",
      "See the caveats in the documentation: https://pandas.pydata.org/pandas-docs/stable/user_guide/indexing.html#returning-a-view-versus-a-copy\n",
      "  df['Retweet'][i] = True\n"
     ]
    }
   ],
   "source": [
    "tweet_id = [tweet.id_str for tweet in alltweets]\n",
    "tweet_created = [tweet.created_at for tweet in alltweets]\n",
    "tweet_text = [tweet.full_text for tweet in alltweets]\n",
    "tweet_hashtags = [tweet.entities['hashtags'] for tweet in alltweets]\n",
    "user_id = [tweet.user.id for tweet in alltweets]\n",
    "screen_name_df = [tweet.user.screen_name for tweet in alltweets]\n",
    "retweet_count =  [tweet.retweet_count for tweet in alltweets]\n",
    "favorite_count = [tweet.favorite_count for tweet in alltweets]\n",
    "lang = [tweet.lang for tweet in alltweets]\n",
    "source = [tweet.source for tweet in alltweets]\n",
    "\n",
    "\n",
    "retweet_text = []\n",
    "i=0\n",
    "for i in range(len(alltweets)):\n",
    "    \n",
    "    try:\n",
    "        #print(i)\n",
    "        retweet_text.append(alltweets[i].retweeted_status.full_text) \n",
    "    except:\n",
    "        #print(i)\n",
    "        retweet_text.append(None)\n",
    "    i = i+1\n",
    "\n",
    "\n",
    "mod_tweet_hashtags = []\n",
    "total_hashtags = []\n",
    "\n",
    "for t in tweet_hashtags:\n",
    "    tag = \"\"\n",
    "    count = 0\n",
    "    if (bool(t) == False):\n",
    "        mod_tweet_hashtags.append('None')\n",
    "        total_hashtags.append(count)\n",
    "    else:\n",
    "        for i in t:\n",
    "            tag = tag + \" \" + i.get('text')\n",
    "            count +=1\n",
    "        mod_tweet_hashtags.append(tag)\n",
    "        total_hashtags.append(count)\n",
    "#print(mod_tweet_hashtags)\n",
    "\n",
    "mention = [tweet.entities['user_mentions'] for tweet in alltweets]\n",
    "mod_tweet_mention_sc = []\n",
    "mod_tweet_mention_id = []\n",
    "k = 0\n",
    "for t in mention:\n",
    "    if (bool(t) == False):\n",
    "        mod_tweet_mention_sc.append('None')\n",
    "        mod_tweet_mention_id.append('None')\n",
    "    else:\n",
    "        mod_tweet_mention_sc.append(mention[k][0]['screen_name'])\n",
    "        mod_tweet_mention_id.append(mention[k][0]['id_str'])\n",
    "    k = k+1\n",
    "    \n",
    "tweet_dict = {'Tweet_ID': tweet_id, \n",
    "              'Tweet_Time': tweet_created, \n",
    "              'Tweet_Text': tweet_text, \n",
    "              'Retweet_Text': retweet_text,\n",
    "              'Tweet_HashTags': mod_tweet_hashtags,\n",
    "              'Total_Hashtags' : total_hashtags,\n",
    "              'Retweet_Count': retweet_count,\n",
    "              'Favorite_Count': favorite_count,\n",
    "              'Tweet_Source' : source,\n",
    "              'Retweet_Screen_Name':mod_tweet_mention_sc,\n",
    "              'Retweet_Account_ID':mod_tweet_mention_id,\n",
    "              'Tweet_Lang': lang,\n",
    "              'User_ID': user_id,\n",
    "              'User_ScreenName': screen_name_df\n",
    "              }  \n",
    "\n",
    "\n",
    "df = pd.DataFrame(tweet_dict) \n",
    "df['Retweet_Source_ScreenName'] = 'None'\n",
    "df['Retweet'] = False\n",
    "\n",
    "\n",
    "\n",
    "for i in range(0, len(df)):\n",
    "    if 'RT' == df['Tweet_Text'][i].split()[0]:\n",
    "        df['Retweet_Source_ScreenName'][i] = df['Tweet_Text'][i].split()[1][1:-1]\n",
    "        df['Retweet'][i] = True\n",
    "        \n",
    "#df.loc[df['Retweet_Source'].str.contains('None'), 'Retweet'] = False\n",
    "#df['Retweet'].fillna(True,inplace=True)\n",
    "\n",
    "\n",
    "df.to_csv('Dataset_1.csv')"
   ]
  },
  {
   "cell_type": "code",
   "execution_count": 69,
   "id": "d96dd8f6",
   "metadata": {},
   "outputs": [],
   "source": [
    "df_data = df.drop_duplicates()"
   ]
  },
  {
   "cell_type": "code",
   "execution_count": 71,
   "id": "10649395",
   "metadata": {},
   "outputs": [],
   "source": [
    "df_data.to_csv('Dataset_1.csv')"
   ]
  },
  {
   "cell_type": "code",
   "execution_count": 70,
   "id": "148a261e",
   "metadata": {},
   "outputs": [
    {
     "data": {
      "text/plain": [
       "1331"
      ]
     },
     "execution_count": 70,
     "metadata": {},
     "output_type": "execute_result"
    }
   ],
   "source": [
    "len(df_data)"
   ]
  },
  {
   "cell_type": "code",
   "execution_count": 73,
   "id": "3e02968f",
   "metadata": {},
   "outputs": [],
   "source": [
    "df_data = df_data.reset_index(drop=True)"
   ]
  },
  {
   "cell_type": "code",
   "execution_count": 86,
   "id": "2e9686c0",
   "metadata": {},
   "outputs": [],
   "source": [
    "df_data.to_csv('Dataset_1.csv')"
   ]
  },
  {
   "cell_type": "code",
   "execution_count": null,
   "id": "75dc9861",
   "metadata": {},
   "outputs": [],
   "source": []
  }
 ],
 "metadata": {
  "kernelspec": {
   "display_name": "Python 3 (ipykernel)",
   "language": "python",
   "name": "python3"
  },
  "language_info": {
   "codemirror_mode": {
    "name": "ipython",
    "version": 3
   },
   "file_extension": ".py",
   "mimetype": "text/x-python",
   "name": "python",
   "nbconvert_exporter": "python",
   "pygments_lexer": "ipython3",
   "version": "3.9.7"
  }
 },
 "nbformat": 4,
 "nbformat_minor": 5
}
